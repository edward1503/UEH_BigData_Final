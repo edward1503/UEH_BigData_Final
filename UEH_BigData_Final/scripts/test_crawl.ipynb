{
 "cells": [
  {
   "cell_type": "code",
   "execution_count": 3,
   "id": "7b5881a0",
   "metadata": {},
   "outputs": [
    {
     "name": "stderr",
     "output_type": "stream",
     "text": [
      "2025-04-27 13:30:29,448 - data.collector - INFO - FastF1 cache enabled at D:\\VSCODE\\UEH_BigData_Final\\UEH_BigData_Final\\data\\cache\n",
      "2025-04-27 13:30:29,448 - data.collector - INFO - F1Collector initialized successfully\n",
      "2025-04-27 13:30:29,450 - data.collector - INFO - Loading R session for Monaco Grand Prix 2021\n",
      "core           INFO \tLoading data for Monaco Grand Prix - Race [v3.5.3]\n",
      "2025-04-27 13:30:29,474 - fastf1.fastf1.core - INFO - Loading data for Monaco Grand Prix - Race [v3.5.3]\n",
      "req            INFO \tUsing cached data for session_info\n",
      "2025-04-27 13:30:29,476 - fastf1.fastf1.req - INFO - Using cached data for session_info\n",
      "req            INFO \tUsing cached data for driver_info\n",
      "2025-04-27 13:30:29,478 - fastf1.fastf1.req - INFO - Using cached data for driver_info\n",
      "req            INFO \tUsing cached data for session_status_data\n",
      "2025-04-27 13:30:29,514 - fastf1.fastf1.req - INFO - Using cached data for session_status_data\n",
      "req            INFO \tUsing cached data for lap_count\n",
      "2025-04-27 13:30:29,516 - fastf1.fastf1.req - INFO - Using cached data for lap_count\n",
      "req            INFO \tUsing cached data for track_status_data\n",
      "2025-04-27 13:30:29,518 - fastf1.fastf1.req - INFO - Using cached data for track_status_data\n",
      "req            INFO \tUsing cached data for _extended_timing_data\n",
      "2025-04-27 13:30:29,525 - fastf1.fastf1.req - INFO - Using cached data for _extended_timing_data\n",
      "req            INFO \tUsing cached data for timing_app_data\n",
      "2025-04-27 13:30:29,527 - fastf1.fastf1.req - INFO - Using cached data for timing_app_data\n",
      "core           INFO \tProcessing timing data...\n",
      "2025-04-27 13:30:29,528 - fastf1.fastf1.core - INFO - Processing timing data...\n"
     ]
    },
    {
     "name": "stdout",
     "output_type": "stream",
     "text": [
      "Added d:\\VSCODE\\UEH_BigData_Final\\UEH_BigData_Final to Python path\n",
      "Collecting data for Monaco Grand Prix 2021...\n"
     ]
    },
    {
     "name": "stderr",
     "output_type": "stream",
     "text": [
      "req            INFO \tUsing cached data for car_data\n",
      "2025-04-27 13:30:31,246 - fastf1.fastf1.req - INFO - Using cached data for car_data\n",
      "req            INFO \tUsing cached data for position_data\n",
      "2025-04-27 13:30:31,349 - fastf1.fastf1.req - INFO - Using cached data for position_data\n",
      "req            INFO \tUsing cached data for weather_data\n",
      "2025-04-27 13:30:32,899 - fastf1.fastf1.req - INFO - Using cached data for weather_data\n",
      "req            INFO \tUsing cached data for race_control_messages\n",
      "2025-04-27 13:30:32,901 - fastf1.fastf1.req - INFO - Using cached data for race_control_messages\n",
      "core        WARNING \tDriver 33 completed the race distance 00:00.058000 before the recorded end of the session.\n",
      "2025-04-27 13:30:32,905 - fastf1.fastf1.core - WARNING - Driver 33 completed the race distance 00:00.058000 before the recorded end of the session.\n",
      "core           INFO \tFinished loading data for 20 drivers: ['33', '55', '4', '11', '5', '10', '44', '18', '31', '99', '7', '3', '14', '63', '6', '22', '9', '47', '77', '16']\n",
      "2025-04-27 13:30:32,991 - fastf1.fastf1.core - INFO - Finished loading data for 20 drivers: ['33', '55', '4', '11', '5', '10', '44', '18', '31', '99', '7', '3', '14', '63', '6', '22', '9', '47', '77', '16']\n",
      "2025-04-27 13:30:32,997 - data.collector - INFO - Processed 1420 laps from Monaco Grand Prix\n",
      "2025-04-27 13:30:33,008 - data.collector - INFO - Saved 1420 records to D:\\VSCODE\\UEH_BigData_Final\\UEH_BigData_Final\\data\\raw\\2021\\monaco_grand_prix_r_laps.parquet\n",
      "2025-04-27 13:30:33,030 - data.collector - INFO - Processed 20 drivers from Monaco Grand Prix\n",
      "2025-04-27 13:30:33,033 - data.collector - INFO - Saved 20 records to D:\\VSCODE\\UEH_BigData_Final\\UEH_BigData_Final\\data\\raw\\2021\\monaco_grand_prix_r_drivers.parquet\n",
      "2025-04-27 13:30:33,035 - data.collector - INFO - Processed results for Monaco Grand Prix\n",
      "2025-04-27 13:30:33,042 - data.collector - INFO - Saved 20 records to D:\\VSCODE\\UEH_BigData_Final\\UEH_BigData_Final\\data\\raw\\2021\\monaco_grand_prix_r_results.parquet\n",
      "2025-04-27 13:30:33,043 - data.collector - INFO - Loading Q session for Monaco Grand Prix 2021\n",
      "core           INFO \tLoading data for Monaco Grand Prix - Qualifying [v3.5.3]\n",
      "2025-04-27 13:30:33,060 - fastf1.fastf1.core - INFO - Loading data for Monaco Grand Prix - Qualifying [v3.5.3]\n",
      "req            INFO \tUsing cached data for session_info\n",
      "2025-04-27 13:30:33,062 - fastf1.fastf1.req - INFO - Using cached data for session_info\n",
      "req            INFO \tUsing cached data for driver_info\n",
      "2025-04-27 13:30:33,063 - fastf1.fastf1.req - INFO - Using cached data for driver_info\n",
      "req            INFO \tUsing cached data for session_status_data\n",
      "2025-04-27 13:30:33,088 - fastf1.fastf1.req - INFO - Using cached data for session_status_data\n",
      "req            INFO \tUsing cached data for track_status_data\n",
      "2025-04-27 13:30:33,089 - fastf1.fastf1.req - INFO - Using cached data for track_status_data\n",
      "req            INFO \tUsing cached data for _extended_timing_data\n",
      "2025-04-27 13:30:33,091 - fastf1.fastf1.req - INFO - Using cached data for _extended_timing_data\n",
      "req            INFO \tUsing cached data for timing_app_data\n",
      "2025-04-27 13:30:33,094 - fastf1.fastf1.req - INFO - Using cached data for timing_app_data\n",
      "core           INFO \tProcessing timing data...\n",
      "2025-04-27 13:30:33,095 - fastf1.fastf1.core - INFO - Processing timing data...\n",
      "core        WARNING \tNo lap data for driver 47\n",
      "2025-04-27 13:30:33,694 - fastf1.fastf1.core - WARNING - No lap data for driver 47\n",
      "core        WARNING \tDriver  5: Lap timing integrity check failed for 1 lap(s)\n",
      "2025-04-27 13:30:33,788 - fastf1.fastf1.core - WARNING - Driver  5: Lap timing integrity check failed for 1 lap(s)\n",
      "core        WARNING \tFailed to perform lap accuracy check - all laps marked as inaccurate (driver 47)\n",
      "2025-04-27 13:30:33,865 - fastf1.fastf1.core - WARNING - Failed to perform lap accuracy check - all laps marked as inaccurate (driver 47)\n",
      "req            INFO \tUsing cached data for car_data\n",
      "2025-04-27 13:30:33,896 - fastf1.fastf1.req - INFO - Using cached data for car_data\n",
      "req            INFO \tUsing cached data for position_data\n",
      "2025-04-27 13:30:33,957 - fastf1.fastf1.req - INFO - Using cached data for position_data\n",
      "req            INFO \tUsing cached data for weather_data\n",
      "2025-04-27 13:30:34,929 - fastf1.fastf1.req - INFO - Using cached data for weather_data\n",
      "req            INFO \tUsing cached data for race_control_messages\n",
      "2025-04-27 13:30:34,931 - fastf1.fastf1.req - INFO - Using cached data for race_control_messages\n",
      "core           INFO \tFinished loading data for 20 drivers: ['16', '33', '77', '55', '4', '10', '44', '5', '11', '99', '31', '3', '18', '7', '63', '22', '14', '6', '9', '47']\n",
      "2025-04-27 13:30:34,988 - fastf1.fastf1.core - INFO - Finished loading data for 20 drivers: ['16', '33', '77', '55', '4', '10', '44', '5', '11', '99', '31', '3', '18', '7', '63', '22', '14', '6', '9', '47']\n",
      "2025-04-27 13:30:34,995 - data.collector - INFO - Processed 425 laps from Monaco Grand Prix\n",
      "2025-04-27 13:30:35,007 - data.collector - INFO - Saved 425 records to D:\\VSCODE\\UEH_BigData_Final\\UEH_BigData_Final\\data\\raw\\2021\\monaco_grand_prix_q_laps.parquet\n",
      "2025-04-27 13:30:35,029 - data.collector - INFO - Processed 20 drivers from Monaco Grand Prix\n",
      "2025-04-27 13:30:35,044 - data.collector - INFO - Saved 20 records to D:\\VSCODE\\UEH_BigData_Final\\UEH_BigData_Final\\data\\raw\\2021\\monaco_grand_prix_q_drivers.parquet\n",
      "2025-04-27 13:30:35,047 - data.collector - INFO - Processed results for Monaco Grand Prix\n",
      "2025-04-27 13:30:35,054 - data.collector - INFO - Saved 20 records to D:\\VSCODE\\UEH_BigData_Final\\UEH_BigData_Final\\data\\raw\\2021\\monaco_grand_prix_q_results.parquet\n"
     ]
    },
    {
     "name": "stdout",
     "output_type": "stream",
     "text": [
      "Result: {'r_laps': WindowsPath('D:/VSCODE/UEH_BigData_Final/UEH_BigData_Final/data/raw/2021/monaco_grand_prix_r_laps.parquet'), 'r_drivers': WindowsPath('D:/VSCODE/UEH_BigData_Final/UEH_BigData_Final/data/raw/2021/monaco_grand_prix_r_drivers.parquet'), 'r_results': WindowsPath('D:/VSCODE/UEH_BigData_Final/UEH_BigData_Final/data/raw/2021/monaco_grand_prix_r_results.parquet'), 'q_laps': WindowsPath('D:/VSCODE/UEH_BigData_Final/UEH_BigData_Final/data/raw/2021/monaco_grand_prix_q_laps.parquet'), 'q_drivers': WindowsPath('D:/VSCODE/UEH_BigData_Final/UEH_BigData_Final/data/raw/2021/monaco_grand_prix_q_drivers.parquet'), 'q_results': WindowsPath('D:/VSCODE/UEH_BigData_Final/UEH_BigData_Final/data/raw/2021/monaco_grand_prix_q_results.parquet')}\n",
      "\n",
      "Files created:\n",
      "D:\\VSCODE\\UEH_BigData_Final\\UEH_BigData_Final\\data\\raw\\2021\\monaco_grand_prix_q_drivers.parquet\n",
      "D:\\VSCODE\\UEH_BigData_Final\\UEH_BigData_Final\\data\\raw\\2021\\monaco_grand_prix_q_laps.parquet\n",
      "D:\\VSCODE\\UEH_BigData_Final\\UEH_BigData_Final\\data\\raw\\2021\\monaco_grand_prix_q_results.parquet\n",
      "D:\\VSCODE\\UEH_BigData_Final\\UEH_BigData_Final\\data\\raw\\2021\\monaco_grand_prix_r_drivers.parquet\n",
      "D:\\VSCODE\\UEH_BigData_Final\\UEH_BigData_Final\\data\\raw\\2021\\monaco_grand_prix_r_laps.parquet\n",
      "D:\\VSCODE\\UEH_BigData_Final\\UEH_BigData_Final\\data\\raw\\2021\\monaco_grand_prix_r_results.parquet\n"
     ]
    }
   ],
   "source": [
    "# Thêm thư mục gốc dự án vào sys.path\n",
    "import sys\n",
    "import os\n",
    "from pathlib import Path\n",
    "\n",
    "# Xác định thư mục gốc dự án\n",
    "notebook_dir = Path(os.getcwd())\n",
    "project_root = notebook_dir.parent  # Đi lên 1 cấp từ scripts\n",
    "sys.path.append(str(project_root))\n",
    "\n",
    "print(f\"Added {project_root} to Python path\")\n",
    "\n",
    "# Import các module\n",
    "from data.collector import F1Collector\n",
    "import config\n",
    "\n",
    "# Tạo instance của F1Collector\n",
    "collector = F1Collector(cache_enabled=True)\n",
    "\n",
    "# Test thu thập dữ liệu cho một Grand Prix cụ thể\n",
    "year = 2021\n",
    "gp_name = \"Monaco Grand Prix\"\n",
    "print(f\"Collecting data for {gp_name} {year}...\")\n",
    "result = collector.collect_event_data(year, gp_name)\n",
    "print(f\"Result: {result}\")\n",
    "\n",
    "# Kiểm tra kết quả\n",
    "print(\"\\nFiles created:\")\n",
    "for root, dirs, files in os.walk(config.RAW_DATA_DIR):\n",
    "    for file in files:\n",
    "        print(os.path.join(root, file))\n"
   ]
  },
  {
   "cell_type": "code",
   "execution_count": null,
   "id": "555b6b39",
   "metadata": {},
   "outputs": [],
   "source": []
  }
 ],
 "metadata": {
  "kernelspec": {
   "display_name": "Python 3",
   "language": "python",
   "name": "python3"
  },
  "language_info": {
   "codemirror_mode": {
    "name": "ipython",
    "version": 3
   },
   "file_extension": ".py",
   "mimetype": "text/x-python",
   "name": "python",
   "nbconvert_exporter": "python",
   "pygments_lexer": "ipython3",
   "version": "3.12.4"
  }
 },
 "nbformat": 4,
 "nbformat_minor": 5
}
