{
 "cells": [
  {
   "cell_type": "code",
   "execution_count": 16,
   "id": "438d361a",
   "metadata": {},
   "outputs": [],
   "source": [
    "from pyspark.sql import SparkSession\n",
    "from pyspark.sql import functions as F\n",
    "from pyspark.sql.window import Window\n",
    "from pathlib import Path\n",
    "import sys\n",
    "import os\n",
    "current_dir = os.getcwd()  # Lấy thư mục hiện tại\n",
    "root_dir = os.path.abspath(os.path.join(current_dir, '..'))  # Lên 2 cấp thư mục\n",
    "sys.path.insert(0, root_dir)\n",
    "from config import RAW_DATA_DIR, PROCESSED_DATA_DIR, CACHE_DIR, MODEL_PARAMS, MODELS_DIR\n",
    "\n",
    "# Khởi tạo Spark Session\n",
    "spark = SparkSession.builder \\\n",
    "    .appName(\"F1DataProcessing\") \\\n",
    "    .config(\"spark.sql.legacy.parquet.nanosAsLong\", \"true\") \\\n",
    "    .getOrCreate()\n",
    "\n",
    "def read_parquet_with_columns(path, cols):\n",
    "    return spark.read.parquet(path).select(cols)\n"
   ]
  },
  {
   "cell_type": "code",
   "execution_count": null,
   "id": "5b6200f9",
   "metadata": {},
   "outputs": [
    {
     "ename": "AnalysisException",
     "evalue": "[DATATYPE_MISMATCH.UNEXPECTED_INPUT_TYPE] Cannot resolve \"avg(Rainfall)\" due to data type mismatch: Parameter 1 requires the \"NUMERIC\" or \"ANSI INTERVAL\" type, however \"Rainfall\" has the type \"BOOLEAN\".;\n'Aggregate [avg(Time#899L) AS avg_Time#943, avg(AirTemp#900) AS avg_AirTemp#945, avg(Humidity#901) AS avg_Humidity#947, avg(Pressure#902) AS avg_Pressure#949, avg(Rainfall#903) AS avg_Rainfall#951, avg(TrackTemp#904) AS avg_TrackTemp#953, avg(WindDirection#905L) AS avg_WindDirection#955, avg(WindSpeed#906) AS avg_WindSpeed#957]\n+- Filter rainfall#903: boolean\n   +- Relation [Time#899L,AirTemp#900,Humidity#901,Pressure#902,Rainfall#903,TrackTemp#904,WindDirection#905L,WindSpeed#906] parquet\n",
     "output_type": "error",
     "traceback": [
      "\u001b[1;31m---------------------------------------------------------------------------\u001b[0m",
      "\u001b[1;31mAnalysisException\u001b[0m                         Traceback (most recent call last)",
      "Cell \u001b[1;32mIn[20], line 35\u001b[0m\n\u001b[0;32m     32\u001b[0m results \u001b[38;5;241m=\u001b[39m results\u001b[38;5;241m.\u001b[39mwithColumn(\u001b[38;5;124m\"\u001b[39m\u001b[38;5;124mrainfall\u001b[39m\u001b[38;5;124m\"\u001b[39m, F\u001b[38;5;241m.\u001b[39mlit(rainfall_exists))\n\u001b[0;32m     34\u001b[0m \u001b[38;5;66;03m# Tính trung bình các chỉ số thời tiết khác (loại bỏ rainfall vì đã xử lý riêng)\u001b[39;00m\n\u001b[1;32m---> 35\u001b[0m weather_avg \u001b[38;5;241m=\u001b[39m \u001b[43mweather\u001b[49m\u001b[38;5;241;43m.\u001b[39;49m\u001b[43mfilter\u001b[49m\u001b[43m(\u001b[49m\u001b[43mF\u001b[49m\u001b[38;5;241;43m.\u001b[39;49m\u001b[43mcol\u001b[49m\u001b[43m(\u001b[49m\u001b[38;5;124;43m\"\u001b[39;49m\u001b[38;5;124;43mrainfall\u001b[39;49m\u001b[38;5;124;43m\"\u001b[39;49m\u001b[43m)\u001b[49m\u001b[43m)\u001b[49m\u001b[38;5;241;43m.\u001b[39;49m\u001b[43magg\u001b[49m\u001b[43m(\u001b[49m\n\u001b[0;32m     36\u001b[0m \u001b[43m    \u001b[49m\u001b[38;5;241;43m*\u001b[39;49m\u001b[43m[\u001b[49m\u001b[43mF\u001b[49m\u001b[38;5;241;43m.\u001b[39;49m\u001b[43mavg\u001b[49m\u001b[43m(\u001b[49m\u001b[43mcol\u001b[49m\u001b[43m)\u001b[49m\u001b[38;5;241;43m.\u001b[39;49m\u001b[43malias\u001b[49m\u001b[43m(\u001b[49m\u001b[38;5;124;43mf\u001b[39;49m\u001b[38;5;124;43m\"\u001b[39;49m\u001b[38;5;124;43mavg_\u001b[39;49m\u001b[38;5;132;43;01m{\u001b[39;49;00m\u001b[43mcol\u001b[49m\u001b[38;5;132;43;01m}\u001b[39;49;00m\u001b[38;5;124;43m\"\u001b[39;49m\u001b[43m)\u001b[49m\u001b[43m \u001b[49m\u001b[38;5;28;43;01mfor\u001b[39;49;00m\u001b[43m \u001b[49m\u001b[43mcol\u001b[49m\u001b[43m \u001b[49m\u001b[38;5;129;43;01min\u001b[39;49;00m\u001b[43m \u001b[49m\u001b[43mweather\u001b[49m\u001b[38;5;241;43m.\u001b[39;49m\u001b[43mcolumns\u001b[49m\u001b[43m \u001b[49m\u001b[38;5;28;43;01mif\u001b[39;49;00m\u001b[43m \u001b[49m\u001b[43mcol\u001b[49m\u001b[43m \u001b[49m\u001b[38;5;129;43;01mnot\u001b[39;49;00m\u001b[43m \u001b[49m\u001b[38;5;129;43;01min\u001b[39;49;00m\u001b[43m \u001b[49m\u001b[43m[\u001b[49m\u001b[38;5;124;43m\"\u001b[39;49m\u001b[38;5;124;43mrainfall\u001b[39;49m\u001b[38;5;124;43m\"\u001b[39;49m\u001b[43m,\u001b[49m\u001b[43m \u001b[49m\u001b[38;5;124;43m\"\u001b[39;49m\u001b[38;5;124;43mdrivernumber\u001b[39;49m\u001b[38;5;124;43m\"\u001b[39;49m\u001b[43m,\u001b[49m\u001b[43m \u001b[49m\u001b[38;5;124;43m\"\u001b[39;49m\u001b[38;5;124;43myear\u001b[39;49m\u001b[38;5;124;43m\"\u001b[39;49m\u001b[43m,\u001b[49m\u001b[43m \u001b[49m\u001b[38;5;124;43m\"\u001b[39;49m\u001b[38;5;124;43mgp_name\u001b[39;49m\u001b[38;5;124;43m\"\u001b[39;49m\u001b[43m]\u001b[49m\u001b[43m]\u001b[49m\n\u001b[0;32m     37\u001b[0m \u001b[43m\u001b[49m\u001b[43m)\u001b[49m\n\u001b[0;32m     38\u001b[0m \u001b[38;5;66;03m# Nếu không có dòng rainfall = False, weather_avg sẽ là None, cần xử lý để tránh lỗi join\u001b[39;00m\n\u001b[0;32m     39\u001b[0m \u001b[38;5;28;01mif\u001b[39;00m weather_avg\u001b[38;5;241m.\u001b[39mcount() \u001b[38;5;241m>\u001b[39m \u001b[38;5;241m0\u001b[39m:\n",
      "File \u001b[1;32mc:\\Users\\vanhu\\AppData\\Local\\Programs\\Python\\Python312\\Lib\\site-packages\\pyspark\\sql\\dataframe.py:3703\u001b[0m, in \u001b[0;36mDataFrame.agg\u001b[1;34m(self, *exprs)\u001b[0m\n\u001b[0;32m   3667\u001b[0m \u001b[38;5;28;01mdef\u001b[39;00m \u001b[38;5;21magg\u001b[39m(\u001b[38;5;28mself\u001b[39m, \u001b[38;5;241m*\u001b[39mexprs: Union[Column, Dict[\u001b[38;5;28mstr\u001b[39m, \u001b[38;5;28mstr\u001b[39m]]) \u001b[38;5;241m-\u001b[39m\u001b[38;5;241m>\u001b[39m \u001b[38;5;124m\"\u001b[39m\u001b[38;5;124mDataFrame\u001b[39m\u001b[38;5;124m\"\u001b[39m:\n\u001b[0;32m   3668\u001b[0m \u001b[38;5;250m    \u001b[39m\u001b[38;5;124;03m\"\"\"Aggregate on the entire :class:`DataFrame` without groups\u001b[39;00m\n\u001b[0;32m   3669\u001b[0m \u001b[38;5;124;03m    (shorthand for ``df.groupBy().agg()``).\u001b[39;00m\n\u001b[0;32m   3670\u001b[0m \n\u001b[1;32m   (...)\u001b[0m\n\u001b[0;32m   3701\u001b[0m \u001b[38;5;124;03m    +--------+\u001b[39;00m\n\u001b[0;32m   3702\u001b[0m \u001b[38;5;124;03m    \"\"\"\u001b[39;00m\n\u001b[1;32m-> 3703\u001b[0m     \u001b[38;5;28;01mreturn\u001b[39;00m \u001b[38;5;28;43mself\u001b[39;49m\u001b[38;5;241;43m.\u001b[39;49m\u001b[43mgroupBy\u001b[49m\u001b[43m(\u001b[49m\u001b[43m)\u001b[49m\u001b[38;5;241;43m.\u001b[39;49m\u001b[43magg\u001b[49m\u001b[43m(\u001b[49m\u001b[38;5;241;43m*\u001b[39;49m\u001b[43mexprs\u001b[49m\u001b[43m)\u001b[49m\n",
      "File \u001b[1;32mc:\\Users\\vanhu\\AppData\\Local\\Programs\\Python\\Python312\\Lib\\site-packages\\pyspark\\sql\\group.py:186\u001b[0m, in \u001b[0;36mGroupedData.agg\u001b[1;34m(self, *exprs)\u001b[0m\n\u001b[0;32m    184\u001b[0m     \u001b[38;5;28;01massert\u001b[39;00m \u001b[38;5;28mall\u001b[39m(\u001b[38;5;28misinstance\u001b[39m(c, Column) \u001b[38;5;28;01mfor\u001b[39;00m c \u001b[38;5;129;01min\u001b[39;00m exprs), \u001b[38;5;124m\"\u001b[39m\u001b[38;5;124mall exprs should be Column\u001b[39m\u001b[38;5;124m\"\u001b[39m\n\u001b[0;32m    185\u001b[0m     exprs \u001b[38;5;241m=\u001b[39m cast(Tuple[Column, \u001b[38;5;241m.\u001b[39m\u001b[38;5;241m.\u001b[39m\u001b[38;5;241m.\u001b[39m], exprs)\n\u001b[1;32m--> 186\u001b[0m     jdf \u001b[38;5;241m=\u001b[39m \u001b[38;5;28;43mself\u001b[39;49m\u001b[38;5;241;43m.\u001b[39;49m\u001b[43m_jgd\u001b[49m\u001b[38;5;241;43m.\u001b[39;49m\u001b[43magg\u001b[49m\u001b[43m(\u001b[49m\u001b[43mexprs\u001b[49m\u001b[43m[\u001b[49m\u001b[38;5;241;43m0\u001b[39;49m\u001b[43m]\u001b[49m\u001b[38;5;241;43m.\u001b[39;49m\u001b[43m_jc\u001b[49m\u001b[43m,\u001b[49m\u001b[43m \u001b[49m\u001b[43m_to_seq\u001b[49m\u001b[43m(\u001b[49m\u001b[38;5;28;43mself\u001b[39;49m\u001b[38;5;241;43m.\u001b[39;49m\u001b[43msession\u001b[49m\u001b[38;5;241;43m.\u001b[39;49m\u001b[43m_sc\u001b[49m\u001b[43m,\u001b[49m\u001b[43m \u001b[49m\u001b[43m[\u001b[49m\u001b[43mc\u001b[49m\u001b[38;5;241;43m.\u001b[39;49m\u001b[43m_jc\u001b[49m\u001b[43m \u001b[49m\u001b[38;5;28;43;01mfor\u001b[39;49;00m\u001b[43m \u001b[49m\u001b[43mc\u001b[49m\u001b[43m \u001b[49m\u001b[38;5;129;43;01min\u001b[39;49;00m\u001b[43m \u001b[49m\u001b[43mexprs\u001b[49m\u001b[43m[\u001b[49m\u001b[38;5;241;43m1\u001b[39;49m\u001b[43m:\u001b[49m\u001b[43m]\u001b[49m\u001b[43m]\u001b[49m\u001b[43m)\u001b[49m\u001b[43m)\u001b[49m\n\u001b[0;32m    187\u001b[0m \u001b[38;5;28;01mreturn\u001b[39;00m DataFrame(jdf, \u001b[38;5;28mself\u001b[39m\u001b[38;5;241m.\u001b[39msession)\n",
      "File \u001b[1;32mc:\\Users\\vanhu\\AppData\\Local\\Programs\\Python\\Python312\\Lib\\site-packages\\py4j\\java_gateway.py:1322\u001b[0m, in \u001b[0;36mJavaMember.__call__\u001b[1;34m(self, *args)\u001b[0m\n\u001b[0;32m   1316\u001b[0m command \u001b[38;5;241m=\u001b[39m proto\u001b[38;5;241m.\u001b[39mCALL_COMMAND_NAME \u001b[38;5;241m+\u001b[39m\\\n\u001b[0;32m   1317\u001b[0m     \u001b[38;5;28mself\u001b[39m\u001b[38;5;241m.\u001b[39mcommand_header \u001b[38;5;241m+\u001b[39m\\\n\u001b[0;32m   1318\u001b[0m     args_command \u001b[38;5;241m+\u001b[39m\\\n\u001b[0;32m   1319\u001b[0m     proto\u001b[38;5;241m.\u001b[39mEND_COMMAND_PART\n\u001b[0;32m   1321\u001b[0m answer \u001b[38;5;241m=\u001b[39m \u001b[38;5;28mself\u001b[39m\u001b[38;5;241m.\u001b[39mgateway_client\u001b[38;5;241m.\u001b[39msend_command(command)\n\u001b[1;32m-> 1322\u001b[0m return_value \u001b[38;5;241m=\u001b[39m \u001b[43mget_return_value\u001b[49m\u001b[43m(\u001b[49m\n\u001b[0;32m   1323\u001b[0m \u001b[43m    \u001b[49m\u001b[43manswer\u001b[49m\u001b[43m,\u001b[49m\u001b[43m \u001b[49m\u001b[38;5;28;43mself\u001b[39;49m\u001b[38;5;241;43m.\u001b[39;49m\u001b[43mgateway_client\u001b[49m\u001b[43m,\u001b[49m\u001b[43m \u001b[49m\u001b[38;5;28;43mself\u001b[39;49m\u001b[38;5;241;43m.\u001b[39;49m\u001b[43mtarget_id\u001b[49m\u001b[43m,\u001b[49m\u001b[43m \u001b[49m\u001b[38;5;28;43mself\u001b[39;49m\u001b[38;5;241;43m.\u001b[39;49m\u001b[43mname\u001b[49m\u001b[43m)\u001b[49m\n\u001b[0;32m   1325\u001b[0m \u001b[38;5;28;01mfor\u001b[39;00m temp_arg \u001b[38;5;129;01min\u001b[39;00m temp_args:\n\u001b[0;32m   1326\u001b[0m     \u001b[38;5;28;01mif\u001b[39;00m \u001b[38;5;28mhasattr\u001b[39m(temp_arg, \u001b[38;5;124m\"\u001b[39m\u001b[38;5;124m_detach\u001b[39m\u001b[38;5;124m\"\u001b[39m):\n",
      "File \u001b[1;32mc:\\Users\\vanhu\\AppData\\Local\\Programs\\Python\\Python312\\Lib\\site-packages\\pyspark\\errors\\exceptions\\captured.py:185\u001b[0m, in \u001b[0;36mcapture_sql_exception.<locals>.deco\u001b[1;34m(*a, **kw)\u001b[0m\n\u001b[0;32m    181\u001b[0m converted \u001b[38;5;241m=\u001b[39m convert_exception(e\u001b[38;5;241m.\u001b[39mjava_exception)\n\u001b[0;32m    182\u001b[0m \u001b[38;5;28;01mif\u001b[39;00m \u001b[38;5;129;01mnot\u001b[39;00m \u001b[38;5;28misinstance\u001b[39m(converted, UnknownException):\n\u001b[0;32m    183\u001b[0m     \u001b[38;5;66;03m# Hide where the exception came from that shows a non-Pythonic\u001b[39;00m\n\u001b[0;32m    184\u001b[0m     \u001b[38;5;66;03m# JVM exception message.\u001b[39;00m\n\u001b[1;32m--> 185\u001b[0m     \u001b[38;5;28;01mraise\u001b[39;00m converted \u001b[38;5;28;01mfrom\u001b[39;00m \u001b[38;5;28;01mNone\u001b[39;00m\n\u001b[0;32m    186\u001b[0m \u001b[38;5;28;01melse\u001b[39;00m:\n\u001b[0;32m    187\u001b[0m     \u001b[38;5;28;01mraise\u001b[39;00m\n",
      "\u001b[1;31mAnalysisException\u001b[0m: [DATATYPE_MISMATCH.UNEXPECTED_INPUT_TYPE] Cannot resolve \"avg(Rainfall)\" due to data type mismatch: Parameter 1 requires the \"NUMERIC\" or \"ANSI INTERVAL\" type, however \"Rainfall\" has the type \"BOOLEAN\".;\n'Aggregate [avg(Time#899L) AS avg_Time#943, avg(AirTemp#900) AS avg_AirTemp#945, avg(Humidity#901) AS avg_Humidity#947, avg(Pressure#902) AS avg_Pressure#949, avg(Rainfall#903) AS avg_Rainfall#951, avg(TrackTemp#904) AS avg_TrackTemp#953, avg(WindDirection#905L) AS avg_WindDirection#955, avg(WindSpeed#906) AS avg_WindSpeed#957]\n+- Filter rainfall#903: boolean\n   +- Relation [Time#899L,AirTemp#900,Humidity#901,Pressure#902,Rainfall#903,TrackTemp#904,WindDirection#905L,WindSpeed#906] parquet\n"
     ]
    }
   ],
   "source": [
    "from pyspark.sql import SparkSession, functions as F\n",
    "\n",
    "spark = SparkSession.builder.appName(\"F1DataProcessing\").getOrCreate()\n",
    "\n",
    "years = [2021, 2022, 2023]\n",
    "processed_dfs = []\n",
    "\n",
    "def read_parquet_with_columns(path, cols):\n",
    "    return spark.read.parquet(path).select(cols)\n",
    "\n",
    "for year in years:\n",
    "    # Đọc danh sách các file results của năm đó (ví dụ: lấy tất cả file results trong thư mục năm)\n",
    "    results_files = [f\"{RAW_DATA_DIR}/{year}/monaco_grand_prix_r_results.parquet\"]  # Thay bằng cách lấy tất cả file results của năm\n",
    "\n",
    "    for results_file in results_files:\n",
    "        # Lấy tên GP từ tên file (ví dụ: monaco_grand_prix)\n",
    "        gp_name = results_file.split('/')[-1].split('_results')[0]\n",
    "\n",
    "        # Đọc results\n",
    "        results_cols = [\"drivernumber\", \"driverid\", \"teamname\", \"fullname\", \"position\", \"classifiedposition\", \"gridposition\", \"status\", \"points\"]\n",
    "        results = read_parquet_with_columns(results_file, results_cols)\n",
    "        results = results.withColumn(\"year\", F.lit(year))\n",
    "        results = results.withColumn(\"gp_name\", F.lit(gp_name))\n",
    "\n",
    "        # Đọc weather\n",
    "        weather_file = f\"{RAW_DATA_DIR}/{year}/{gp_name}_weather.parquet\"\n",
    "        weather = spark.read.parquet(weather_file)\n",
    "        weather_avg = weather.agg(\n",
    "            *[F.avg(col).alias(f\"avg_{col}\") for col in weather.columns if col not in [\"drivernumber\", \"year\", \"gp_name\"]]\n",
    "        )\n",
    "\n",
    "        # Đọc laps\n",
    "        laps_file = f\"{RAW_DATA_DIR}/{year}/{gp_name}_laps.parquet\"\n",
    "        laps_cols = [\"drivernumber\", \"lapnumber\", \"stint\", \"pitintime\", \"pitouttime\", \"time\", \"speed\", \"compound\", \"tyrelife\", \"trackstatus\", \"position\"]\n",
    "        laps = read_parquet_with_columns(laps_file, laps_cols)\n",
    "        # Tính toán các chỉ số theo driver (min, max, mean)\n",
    "        stats = laps.groupBy(\"drivernumber\").agg(\n",
    "            F.count(\"lapnumber\").alias(\"lap_count\"),\n",
    "            F.min(\"time\").alias(\"min_time_ms\"),\n",
    "            F.max(\"time\").alias(\"max_time_ms\"),\n",
    "            F.mean(\"time\").alias(\"avg_time_ms\"),\n",
    "            F.min(\"speed\").alias(\"min_speed\"),\n",
    "            F.max(\"speed\").alias(\"max_speed\"),\n",
    "            F.mean(\"speed\").alias(\"avg_speed\"),\n",
    "            F.countDistinct(\"compound\").alias(\"compound_count\"),\n",
    "        )\n",
    "        # Ghép vào results\n",
    "        results = results.join(stats, on=\"drivernumber\", how=\"left\")\n",
    "\n",
    "        processed_dfs.append(results)\n",
    "\n",
    "# Gộp tất cả các results đã xử lý\n",
    "final_results = processed_dfs[0]\n",
    "for df in processed_dfs[1:]:\n",
    "    final_results = final_results.union(df)\n",
    "\n",
    "# Lưu kết quả\n",
    "final_results.write.mode(\"overwrite\").parquet(f\"{PROCESSED_DATA_DIR}/f1_processed_results.parquet\")\n"
   ]
  },
  {
   "cell_type": "code",
   "execution_count": null,
   "id": "d7b94c51",
   "metadata": {},
   "outputs": [],
   "source": []
  }
 ],
 "metadata": {
  "kernelspec": {
   "display_name": "Python 3",
   "language": "python",
   "name": "python3"
  },
  "language_info": {
   "codemirror_mode": {
    "name": "ipython",
    "version": 3
   },
   "file_extension": ".py",
   "mimetype": "text/x-python",
   "name": "python",
   "nbconvert_exporter": "python",
   "pygments_lexer": "ipython3",
   "version": "3.12.4"
  }
 },
 "nbformat": 4,
 "nbformat_minor": 5
}
